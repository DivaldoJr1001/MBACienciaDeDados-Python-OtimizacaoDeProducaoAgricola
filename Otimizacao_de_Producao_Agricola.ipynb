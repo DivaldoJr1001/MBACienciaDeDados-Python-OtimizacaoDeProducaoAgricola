{
  "nbformat": 4,
  "nbformat_minor": 0,
  "metadata": {
    "colab": {
      "provenance": []
    },
    "kernelspec": {
      "name": "python3",
      "display_name": "Python 3"
    },
    "language_info": {
      "name": "python"
    }
  },
  "cells": [
    {
      "cell_type": "markdown",
      "source": [
        "### UNIFOR - MBA em Ciência de Dados\n",
        "\n",
        "#### Introdução à Pesquisa Operacional\n",
        "\n",
        "##### Divaldo Aderaldo de Oliveira Júnior (2419413)\n"
      ],
      "metadata": {
        "id": "SkstHDXPnvJx"
      }
    },
    {
      "cell_type": "markdown",
      "source": [
        "## **Estudo de Caso: Otimização de Produção Agrícola**\n",
        "\n",
        "Uma fazenda possui diferentes culturas que podem ser plantadas em suas terras. O objetivo é maximizar o lucro total da fazenda, considerando as limitações de recursos disponíveis e as demandas de mercado.\n",
        "\n",
        "###**Detalhes do Problema:**\n",
        "\n",
        "Existem cinco tipos de culturas que podem ser plantadas: A, B, C, D e E. Cada cultura requer diferentes quantidades de recursos (tempo, mão de obra, área) para ser cultivada e gera diferentes lucros por unidade produzida. A fazenda tem recursos limitados disponíveis para alocar para essas culturas.\n",
        "\n",
        "###**Você precisa informar a quantidade produzida de cada cultura e o lucro final da fazenda.**\n",
        "\n",
        "###**Detalhes das Culturas:**\n",
        "\n",
        "**Cultura A:** Requer 1 horas de trabalho, 1 acre de terra e 1 unidade de água para produzir uma unidade. Gera um lucro de 300 unidades monetárias por unidade.\n",
        "\n",
        "**Cultura B:** Requer 1 horas de trabalho, 1 acre de terra e 1 unidade de água para produzir uma unidade. Gera um lucro de 400 unidades monetárias por unidade.\n",
        "\n",
        "**Cultura C:** Requer 2 horas de trabalho, 1,5 acres de terra e 2 unidades de água para produzir uma unidade. Gera um lucro de 450 unidades monetárias por unidade.\n",
        "\n",
        "**Cultura D:** Requer 2 horas de trabalho, 2 acres de terra e 3 unidades de água para produzir uma unidade. Gera um lucro de 600 unidades monetárias por unidade.\n",
        "\n",
        "**Cultura E:** Requer 1 horas de trabalho, 2,5 acres de terra e 4 unidades de água para produzir uma unidade. Gera um lucro de 700 unidades monetárias por unidade.\n",
        "\n",
        "###**Restrições:**\n",
        "\n",
        "A fazenda tem um total de 100 horas de trabalho disponíveis por semana.\n",
        "\n",
        "A fazenda possui 200 acres de terra disponíveis.\n",
        "\n",
        "A fazenda tem acesso a 300 unidades de água por semana.\n",
        "\n",
        "Pelo menos **20%** das horas devem ser alocadas para a cultura D.\n",
        "\n",
        "No máximo **30%** das horas podem ser alocadas para a cultura E.\n",
        "\n",
        "###**Desafio Adicional:**\n",
        "\n",
        "Além de maximizar o lucro total, é necessário garantir a demanda semanal mínima de mercado que é:\n",
        "\n",
        "Cultura A: 05 unidades\n",
        "\n",
        "Cultura B: 07 unidades\n",
        "\n",
        "Cultura C: 08 unidades\n",
        "\n",
        "Cultura D: 05 unidades\n",
        "\n",
        "Cultura E: 20 unidades"
      ],
      "metadata": {
        "id": "zGzwnk1rln3j"
      }
    },
    {
      "cell_type": "markdown",
      "source": [
        "## Importação de PuLP\n",
        "\n"
      ],
      "metadata": {
        "id": "sUZZJDmHoXEJ"
      }
    },
    {
      "cell_type": "code",
      "source": [
        "# !pip install pulp\n",
        "import pulp"
      ],
      "metadata": {
        "id": "o6DqfDjpocJA"
      },
      "execution_count": null,
      "outputs": []
    },
    {
      "cell_type": "markdown",
      "source": [
        "## Definição de Problema"
      ],
      "metadata": {
        "id": "ux1GCFCuqjEl"
      }
    },
    {
      "cell_type": "code",
      "source": [
        "prob = pulp.LpProblem(\"Maximização_de_Lucro\", pulp.LpMaximize)\n",
        "\n",
        "A = pulp.LpVariable('A', lowBound=0, cat='LpInteger')\n",
        "B = pulp.LpVariable('B', lowBound=0, cat='LpInteger')\n",
        "C = pulp.LpVariable('C', lowBound=0, cat='LpInteger')\n",
        "D = pulp.LpVariable('D', lowBound=0, cat='LpInteger')\n",
        "E = pulp.LpVariable('E', lowBound=0, cat='LpInteger')\n",
        "\n",
        "prob += 300*A + 400*B + 450*C + 600*D + 700*E, \"Lucro Total\"\n",
        "\n",
        "prob += 1*A + 1*B + 2*C + 2*D + 1*E <= 100, \"Horas de Trabalho\"\n",
        "prob += 1*A + 1*B + 1.5*C + 2*D + 2.5*E <= 200, \"Acre de Terra\"\n",
        "prob += 1*A + 1*B + 2*C + 3*D + 4*E <= 300, \"Unidades de Água\"\n",
        "\n",
        "prob += 2*D >= 0.2 * 100, \"Restrição Cultura D (20% Horas)\"\n",
        "prob += 1*E <= 0.3 * 100, \"Restrição Cultura E (30% Horas)\""
      ],
      "metadata": {
        "id": "tW4IgUG-o8Lt"
      },
      "execution_count": null,
      "outputs": []
    },
    {
      "cell_type": "markdown",
      "source": [
        "## Resolução"
      ],
      "metadata": {
        "id": "O5Zg2yQqqrLB"
      }
    },
    {
      "cell_type": "code",
      "source": [
        "prob.solve()"
      ],
      "metadata": {
        "colab": {
          "base_uri": "https://localhost:8080/"
        },
        "id": "gZB56QCqqDRr",
        "outputId": "61cf24f0-60c3-4695-86c7-576b7a9bb15e"
      },
      "execution_count": null,
      "outputs": [
        {
          "output_type": "execute_result",
          "data": {
            "text/plain": [
              "1"
            ]
          },
          "metadata": {},
          "execution_count": 20
        }
      ]
    },
    {
      "cell_type": "code",
      "source": [
        "print(f\"Quantidade de Cultura A: {pulp.value(A)}\")\n",
        "print(f\"Quantidade de Cultura B: {pulp.value(B)}\")\n",
        "print(f\"Quantidade de Cultura C: {pulp.value(C)}\")\n",
        "print(f\"Quantidade de Cultura D: {pulp.value(D)}\")\n",
        "print(f\"Quantidade de Cultura E: {pulp.value(E)}\")\n",
        "\n",
        "print(f\"Lucro Total: {pulp.value(prob.objective)}\")"
      ],
      "metadata": {
        "colab": {
          "base_uri": "https://localhost:8080/"
        },
        "id": "Bbi6e51nqE51",
        "outputId": "37d57b31-5e39-4225-8e01-efb0d921cd0e"
      },
      "execution_count": null,
      "outputs": [
        {
          "output_type": "stream",
          "name": "stdout",
          "text": [
            "Quantidade de Cultura A: 0.0\n",
            "Quantidade de Cultura B: 50.0\n",
            "Quantidade de Cultura C: 0.0\n",
            "Quantidade de Cultura D: 10.0\n",
            "Quantidade de Cultura E: 30.0\n",
            "Lucro Total: 47000.0\n"
          ]
        }
      ]
    },
    {
      "cell_type": "markdown",
      "source": [
        "## Desafio Adicional"
      ],
      "metadata": {
        "id": "PTTNdnAbrKgx"
      }
    },
    {
      "cell_type": "code",
      "source": [
        "prob += A >= 5, \"Demanda Mínima Cultura A\"\n",
        "prob += B >= 7, \"Demanda Mínima Cultura B\"\n",
        "prob += C >= 8, \"Demanda Mínima Cultura C\"\n",
        "prob += D >= 5, \"Demanda Mínima Cultura D\"\n",
        "prob += E >= 20, \"Demanda Mínima Cultura E\""
      ],
      "metadata": {
        "id": "oBMSa-eqrMAt"
      },
      "execution_count": null,
      "outputs": []
    },
    {
      "cell_type": "code",
      "source": [
        "prob.solve()"
      ],
      "metadata": {
        "colab": {
          "base_uri": "https://localhost:8080/"
        },
        "id": "rq5pc5uorNx5",
        "outputId": "d62485ea-826c-428f-e524-37d2fedf6827"
      },
      "execution_count": null,
      "outputs": [
        {
          "output_type": "execute_result",
          "data": {
            "text/plain": [
              "1"
            ]
          },
          "metadata": {},
          "execution_count": 23
        }
      ]
    },
    {
      "cell_type": "code",
      "source": [
        "print(f\"Quantidade de Cultura A: {pulp.value(A)}\")\n",
        "print(f\"Quantidade de Cultura B: {pulp.value(B)}\")\n",
        "print(f\"Quantidade de Cultura C: {pulp.value(C)}\")\n",
        "print(f\"Quantidade de Cultura D: {pulp.value(D)}\")\n",
        "print(f\"Quantidade de Cultura E: {pulp.value(E)}\")\n",
        "\n",
        "print(f\"Lucro Total: {pulp.value(prob.objective)}\")"
      ],
      "metadata": {
        "colab": {
          "base_uri": "https://localhost:8080/"
        },
        "id": "3E-ILPgIrS5v",
        "outputId": "79cf1e64-4b28-4f3c-8ddf-81ec28a3e661"
      },
      "execution_count": null,
      "outputs": [
        {
          "output_type": "stream",
          "name": "stdout",
          "text": [
            "Quantidade de Cultura A: 5.0\n",
            "Quantidade de Cultura B: 29.0\n",
            "Quantidade de Cultura C: 8.0\n",
            "Quantidade de Cultura D: 10.0\n",
            "Quantidade de Cultura E: 30.0\n",
            "Lucro Total: 43700.0\n"
          ]
        }
      ]
    }
  ]
}